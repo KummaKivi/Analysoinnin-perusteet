{
 "cells": [
  {
   "cell_type": "code",
   "execution_count": null,
   "metadata": {},
   "outputs": [
    {
     "name": "stdout",
     "output_type": "stream",
     "text": [
      "this app was made by Daniel\n",
      "the value of number1 is 20\n",
      "the value of number1 is 10\n",
      "num1 * num2 =  200\n",
      "num1 / num2 =  2\n",
      "num1 - num2 =  10\n"
     ]
    }
   ],
   "source": [
    "num1 = 20\n",
    "num2 = 10\n",
    "multiplication = num1 * num2\n",
    "div = num1 // num2\n",
    "subs = num1 - num2\n",
    "\n",
    "\n",
    "#print(num1)\n",
    "creator = \"Daniel\"\n",
    "print(\"this app was made by\" , creator)\n",
    "\n",
    "print(\"the value of number1 is\" , num1)\n",
    "print(\"the value of number1 is\" , num2)\n",
    "print(\"num1 * num2 = \" ,multiplication)\n",
    "print(\"num1 / num2 = \" ,div)\n",
    "print(\"num1 - num2 = \" ,subs)\n",
    "      \n",
    "\n",
    " "
   ]
  }
 ],
 "metadata": {
  "kernelspec": {
   "display_name": "Python 3",
   "language": "python",
   "name": "python3"
  },
  "language_info": {
   "codemirror_mode": {
    "name": "ipython",
    "version": 3
   },
   "file_extension": ".py",
   "mimetype": "text/x-python",
   "name": "python",
   "nbconvert_exporter": "python",
   "pygments_lexer": "ipython3",
   "version": "3.13.0"
  }
 },
 "nbformat": 4,
 "nbformat_minor": 2
}
